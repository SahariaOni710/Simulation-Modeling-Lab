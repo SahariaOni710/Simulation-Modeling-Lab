{
  "nbformat": 4,
  "nbformat_minor": 0,
  "metadata": {
    "colab": {
      "provenance": []
    },
    "kernelspec": {
      "name": "python3",
      "display_name": "Python 3"
    },
    "language_info": {
      "name": "python"
    }
  },
  "cells": [
    {
      "cell_type": "code",
      "execution_count": 5,
      "metadata": {
        "colab": {
          "base_uri": "https://localhost:8080/"
        },
        "id": "wrj6TuTL1kFX",
        "outputId": "6afeb4d1-07d6-439f-b226-2e21c00b25d4"
      },
      "outputs": [
        {
          "output_type": "stream",
          "name": "stdout",
          "text": [
            "Max value: 6.5 at index 5\n",
            "Min value: 1.7 at index 0\n",
            "Length of vector: 2\n",
            "Sorted vector: [[1.7 2.5 3.7]\n",
            " [3.2 4.5 6.5]]\n",
            "Sum of elements: 22.1\n",
            "Product of elements: 1471.8600000000001\n",
            "Median value: 3.45\n",
            "Mean value: 3.6833333333333336\n",
            "Standard deviation: 1.5366811279146007\n"
          ]
        }
      ],
      "source": [
        "import numpy as np\n",
        "from sympy import Matrix\n",
        "import matplotlib.pyplot as plt\n",
        "import seaborn as sns\n",
        "\n",
        "matrix = np.array([[1.7, 2.5, 3.7], [3.2, 4.5, 6.5]])\n",
        "\n",
        "max_value = np.max(matrix)\n",
        "\n",
        "min_value = np.min(matrix)\n",
        "\n",
        "max_index = np.argmax(matrix)\n",
        "\n",
        "min_index = np.argmin(matrix)\n",
        "\n",
        "vec_length = len(matrix)\n",
        "\n",
        "sorted_vec = np.sort(matrix)\n",
        "\n",
        "sum_values = np.sum(matrix)\n",
        "\n",
        "prod_values = np.prod(matrix)\n",
        "\n",
        "median_value = np.median(matrix)\n",
        "\n",
        "mean_value = np.mean(matrix)\n",
        "\n",
        "std_dev = np.std(matrix)\n",
        "\n",
        "print(\"Max value:\", max_value, \"at index\", max_index)\n",
        "print(\"Min value:\", min_value, \"at index\", min_index)\n",
        "print(\"Length of vector:\", vec_length)\n",
        "print(\"Sorted vector:\", sorted_vec)\n",
        "print(\"Sum of elements:\", sum_values)\n",
        "print(\"Product of elements:\", prod_values)\n",
        "print(\"Median value:\", median_value)\n",
        "print(\"Mean value:\", mean_value)\n",
        "print(\"Standard deviation:\", std_dev)\n"
      ]
    }
  ]
}