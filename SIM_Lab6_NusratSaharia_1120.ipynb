{
  "nbformat": 4,
  "nbformat_minor": 0,
  "metadata": {
    "colab": {
      "provenance": []
    },
    "kernelspec": {
      "name": "python3",
      "display_name": "Python 3"
    },
    "language_info": {
      "name": "python"
    }
  },
  "cells": [
    {
      "cell_type": "code",
      "execution_count": 1,
      "metadata": {
        "id": "vsQvbvX9gq_M"
      },
      "outputs": [],
      "source": [
        "import numpy as np\n",
        "import scipy.stats as stats\n",
        "import matplotlib.pyplot as plt"
      ]
    },
    {
      "cell_type": "code",
      "source": [
        "# Nusrat Saharia----> 0432220005101120\n",
        "data1 = np.array([18.4, 19.1, 17.9, 18.7, 18.3])  # Sample 1\n",
        "data2 = np.array([20.2, 20.5, 20.1, 20.3, 20.4])   # Sample 2"
      ],
      "metadata": {
        "id": "C24K1Z4dg3DI"
      },
      "execution_count": 3,
      "outputs": []
    },
    {
      "cell_type": "code",
      "source": [
        "t_statistic, p_value = stats.ttest_ind(data1, data2, equal_var=True)"
      ],
      "metadata": {
        "id": "RrmTA2i3hYxH"
      },
      "execution_count": 4,
      "outputs": []
    },
    {
      "cell_type": "code",
      "source": [
        "\n",
        "\n",
        "# mean difference\n",
        "mean_diff = np.mean(data1) - np.mean(data2)\n",
        "\n",
        "# sample sizes\n",
        "n1, n2 = len(data1), len(data2)\n",
        "\n",
        "# sample variances\n",
        "s1_sq, s2_sq = np.var(data1, ddof=1), np.var(data2, ddof=1)\n",
        "\n",
        "# pooled variance\n",
        "sp_sq = ((n1 - 1) * s1_sq + (n2 - 1) * s2_sq) / (n1 + n2 - 2)\n",
        "\n",
        "# standard error using pooled variance\n",
        "std_err = np.sqrt(sp_sq * (1/n1 + 1/n2))\n",
        "\n",
        "# degrees of freedom\n",
        "df = n1 + n2 - 2\n",
        "\n",
        "# 95% confidence interval\n",
        "ci = stats.t.interval(0.95, df, loc=mean_diff, scale=std_err)"
      ],
      "metadata": {
        "id": "bpN5EYlQhlLu"
      },
      "execution_count": 5,
      "outputs": []
    },
    {
      "cell_type": "code",
      "source": [
        "print(f\"Sample 1 Mean: {np.mean(data1):.2f}\")\n",
        "print(f\"Sample 2 Mean: {np.mean(data2):.2f}\")\n",
        "print(f\"t-Statistic: {t_statistic:.2f}\")\n",
        "print(f\"Degrees of Freedom: {df:.2f}\")\n",
        "print(f\"p-Value: {p_value:.4f}\")\n",
        "print(f\"Confidence Interval of Mean Difference: [{ci[0]:.2f}, {ci[1]:.2f}]\")\n"
      ],
      "metadata": {
        "colab": {
          "base_uri": "https://localhost:8080/"
        },
        "id": "t0ZlEs7hiwNN",
        "outputId": "70603a5a-e6d8-4094-a65d-1e84fceeb994"
      },
      "execution_count": 6,
      "outputs": [
        {
          "output_type": "stream",
          "name": "stdout",
          "text": [
            "Sample 1 Mean: 18.48\n",
            "Sample 2 Mean: 20.30\n",
            "t-Statistic: -8.54\n",
            "Degrees of Freedom: 8.00\n",
            "p-Value: 0.0000\n",
            "Confidence Interval of Mean Difference: [-2.31, -1.33]\n"
          ]
        }
      ]
    },
    {
      "cell_type": "code",
      "source": [
        "alpha = 0.05  # Significance level\n",
        "if p_value < alpha:\n",
        "    print(\"Reject the null hypothesis. The means of the two samples are significantly different.\")\n",
        "else:\n",
        "    print(\"Fail to reject the null hypothesis. The means of the two samples are not significantly different.\")"
      ],
      "metadata": {
        "colab": {
          "base_uri": "https://localhost:8080/"
        },
        "id": "y8g8CCpXjI1O",
        "outputId": "7b8542ff-f237-4320-c35c-b6a294b5db4c"
      },
      "execution_count": 7,
      "outputs": [
        {
          "output_type": "stream",
          "name": "stdout",
          "text": [
            "Reject the null hypothesis. The means of the two samples are significantly different.\n"
          ]
        }
      ]
    },
    {
      "cell_type": "code",
      "source": [
        "plt.figure(figsize=(6, 4))\n",
        "plt.bar(['Sample 1', 'Sample 2'], [np.mean(data1), np.mean(data2)], color=['blue', 'green'], alpha=0.5)\n",
        "plt.errorbar(['Sample 1', 'Sample 2'], [np.mean(data1), np.mean(data2)], yerr=[np.std(data1, ddof=1), np.std(data2, ddof=1)], fmt='k_', capsize=5)\n",
        "plt.title('Comparison of Sample Means')\n",
        "plt.ylabel('Mean Value')\n",
        "plt.grid(True)\n",
        "plt.show()"
      ],
      "metadata": {
        "colab": {
          "base_uri": "https://localhost:8080/",
          "height": 391
        },
        "id": "rzcu0JR1jNNt",
        "outputId": "1cfbd526-57fa-4683-997e-57be2260fdd7"
      },
      "execution_count": 9,
      "outputs": [
        {
          "output_type": "display_data",
          "data": {
            "text/plain": [
              "<Figure size 600x400 with 1 Axes>"
            ],
            "image/png": "[encoded data removed]"
          },
          "metadata": {}
        }
      ]
    }
  ]
}